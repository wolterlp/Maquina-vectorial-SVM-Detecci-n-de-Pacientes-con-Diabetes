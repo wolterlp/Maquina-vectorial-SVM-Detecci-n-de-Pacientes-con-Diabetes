{
 "cells": [
  {
   "cell_type": "code",
   "execution_count": 1,
   "id": "82422033",
   "metadata": {},
   "outputs": [],
   "source": [
    "#SVM para la detección de diabetes\n",
    "#En este ejercicio intentamos crear una SVM que permita identificar pacientes con diabetes \n",
    "#conociendo únicamente sus características físicas, \n",
    "#sin necesidad de realizar un examen específico sobre el tema. \n",
    "#Contamos con datos de 768 pacaientes, \n",
    "#los cuales están identificados on 0 en caso de no tener diabetes y \n",
    "#con 1 en caso de tener un diagnóstico positivo.\n",
    "\n",
    "\n",
    "#usaremos Una maquina Vectorial (SVM) util cuando se tiene una gran cantidad de parametros y \n",
    "#se necesita clasificar si es 0 o 1 \n",
    "#SVM para la detección de diabetes\n",
    "\n",
    "#manipulacion de datos\n",
    "import pandas as pd\n",
    "\n",
    "#operaciones numericas\n",
    "import numpy as np\n",
    "\n",
    "#para medicion del tiempo que toma ejecutar los procesos \n",
    "from time import time\n",
    "\n",
    "#para separar datos de entrenamiento y pruebas\n",
    "from sklearn.model_selection import train_test_split\n",
    "\n",
    "#libreria para Maquina Vectorial SVM\n",
    "from sklearn.svm import SVC\n",
    "\n",
    "#Medicion de precision --Eficiencia del algoritmo \n",
    "from sklearn.metrics import accuracy_score, confusion_matrix\n",
    "\n",
    "#creacion de graficos y visualizaciones\n",
    "import matplotlib.pyplot as plt\n"
   ]
  },
  {
   "cell_type": "code",
   "execution_count": 2,
   "id": "bba9077d",
   "metadata": {},
   "outputs": [
    {
     "name": "stdout",
     "output_type": "stream",
     "text": [
      "<class 'pandas.core.frame.DataFrame'>\n",
      "RangeIndex: 768 entries, 0 to 767\n",
      "Data columns (total 9 columns):\n",
      " #   Column                  Non-Null Count  Dtype  \n",
      "---  ------                  --------------  -----  \n",
      " 0   Embarazos               768 non-null    int64  \n",
      " 1   Glucosa                 768 non-null    int64  \n",
      " 2   PresionArterial         768 non-null    int64  \n",
      " 3   GrosorDePiel            768 non-null    int64  \n",
      " 4   Insulina                768 non-null    int64  \n",
      " 5   IMC                     768 non-null    float64\n",
      " 6   FuncionPedigriDiabetes  768 non-null    float64\n",
      " 7   Edad                    768 non-null    int64  \n",
      " 8   Resultado               768 non-null    int64  \n",
      "dtypes: float64(2), int64(7)\n",
      "memory usage: 54.1 KB\n"
     ]
    }
   ],
   "source": [
    "# Leemos el set de datos y lo cargamos en la variable df, que es un DataFrame de pandas\n",
    "datos_diabetes_df = pd.read_csv('datos_diabetes.csv')\n",
    "# Mostrar información sobre el set de datos\n",
    "datos_diabetes_df.info()\n"
   ]
  },
  {
   "cell_type": "code",
   "execution_count": 3,
   "id": "c886b20f",
   "metadata": {},
   "outputs": [
    {
     "data": {
      "text/html": [
       "<div>\n",
       "<style scoped>\n",
       "    .dataframe tbody tr th:only-of-type {\n",
       "        vertical-align: middle;\n",
       "    }\n",
       "\n",
       "    .dataframe tbody tr th {\n",
       "        vertical-align: top;\n",
       "    }\n",
       "\n",
       "    .dataframe thead th {\n",
       "        text-align: right;\n",
       "    }\n",
       "</style>\n",
       "<table border=\"1\" class=\"dataframe\">\n",
       "  <thead>\n",
       "    <tr style=\"text-align: right;\">\n",
       "      <th></th>\n",
       "      <th>Embarazos</th>\n",
       "      <th>Glucosa</th>\n",
       "      <th>PresionArterial</th>\n",
       "      <th>GrosorDePiel</th>\n",
       "      <th>Insulina</th>\n",
       "      <th>IMC</th>\n",
       "      <th>FuncionPedigriDiabetes</th>\n",
       "      <th>Edad</th>\n",
       "      <th>Resultado</th>\n",
       "    </tr>\n",
       "  </thead>\n",
       "  <tbody>\n",
       "    <tr>\n",
       "      <th>0</th>\n",
       "      <td>6</td>\n",
       "      <td>148</td>\n",
       "      <td>72</td>\n",
       "      <td>35</td>\n",
       "      <td>0</td>\n",
       "      <td>33.6</td>\n",
       "      <td>0.627</td>\n",
       "      <td>50</td>\n",
       "      <td>1</td>\n",
       "    </tr>\n",
       "    <tr>\n",
       "      <th>1</th>\n",
       "      <td>1</td>\n",
       "      <td>85</td>\n",
       "      <td>66</td>\n",
       "      <td>29</td>\n",
       "      <td>0</td>\n",
       "      <td>26.6</td>\n",
       "      <td>0.351</td>\n",
       "      <td>31</td>\n",
       "      <td>0</td>\n",
       "    </tr>\n",
       "    <tr>\n",
       "      <th>2</th>\n",
       "      <td>8</td>\n",
       "      <td>183</td>\n",
       "      <td>64</td>\n",
       "      <td>0</td>\n",
       "      <td>0</td>\n",
       "      <td>23.3</td>\n",
       "      <td>0.672</td>\n",
       "      <td>32</td>\n",
       "      <td>1</td>\n",
       "    </tr>\n",
       "    <tr>\n",
       "      <th>3</th>\n",
       "      <td>1</td>\n",
       "      <td>89</td>\n",
       "      <td>66</td>\n",
       "      <td>23</td>\n",
       "      <td>94</td>\n",
       "      <td>28.1</td>\n",
       "      <td>0.167</td>\n",
       "      <td>21</td>\n",
       "      <td>0</td>\n",
       "    </tr>\n",
       "    <tr>\n",
       "      <th>4</th>\n",
       "      <td>0</td>\n",
       "      <td>137</td>\n",
       "      <td>40</td>\n",
       "      <td>35</td>\n",
       "      <td>168</td>\n",
       "      <td>43.1</td>\n",
       "      <td>2.288</td>\n",
       "      <td>33</td>\n",
       "      <td>1</td>\n",
       "    </tr>\n",
       "    <tr>\n",
       "      <th>...</th>\n",
       "      <td>...</td>\n",
       "      <td>...</td>\n",
       "      <td>...</td>\n",
       "      <td>...</td>\n",
       "      <td>...</td>\n",
       "      <td>...</td>\n",
       "      <td>...</td>\n",
       "      <td>...</td>\n",
       "      <td>...</td>\n",
       "    </tr>\n",
       "    <tr>\n",
       "      <th>763</th>\n",
       "      <td>10</td>\n",
       "      <td>101</td>\n",
       "      <td>76</td>\n",
       "      <td>48</td>\n",
       "      <td>180</td>\n",
       "      <td>32.9</td>\n",
       "      <td>0.171</td>\n",
       "      <td>63</td>\n",
       "      <td>0</td>\n",
       "    </tr>\n",
       "    <tr>\n",
       "      <th>764</th>\n",
       "      <td>2</td>\n",
       "      <td>122</td>\n",
       "      <td>70</td>\n",
       "      <td>27</td>\n",
       "      <td>0</td>\n",
       "      <td>36.8</td>\n",
       "      <td>0.340</td>\n",
       "      <td>27</td>\n",
       "      <td>0</td>\n",
       "    </tr>\n",
       "    <tr>\n",
       "      <th>765</th>\n",
       "      <td>5</td>\n",
       "      <td>121</td>\n",
       "      <td>72</td>\n",
       "      <td>23</td>\n",
       "      <td>112</td>\n",
       "      <td>26.2</td>\n",
       "      <td>0.245</td>\n",
       "      <td>30</td>\n",
       "      <td>0</td>\n",
       "    </tr>\n",
       "    <tr>\n",
       "      <th>766</th>\n",
       "      <td>1</td>\n",
       "      <td>126</td>\n",
       "      <td>60</td>\n",
       "      <td>0</td>\n",
       "      <td>0</td>\n",
       "      <td>30.1</td>\n",
       "      <td>0.349</td>\n",
       "      <td>47</td>\n",
       "      <td>1</td>\n",
       "    </tr>\n",
       "    <tr>\n",
       "      <th>767</th>\n",
       "      <td>1</td>\n",
       "      <td>93</td>\n",
       "      <td>70</td>\n",
       "      <td>31</td>\n",
       "      <td>0</td>\n",
       "      <td>30.4</td>\n",
       "      <td>0.315</td>\n",
       "      <td>23</td>\n",
       "      <td>0</td>\n",
       "    </tr>\n",
       "  </tbody>\n",
       "</table>\n",
       "<p>768 rows × 9 columns</p>\n",
       "</div>"
      ],
      "text/plain": [
       "     Embarazos  Glucosa  PresionArterial  GrosorDePiel  Insulina   IMC  \\\n",
       "0            6      148               72            35         0  33.6   \n",
       "1            1       85               66            29         0  26.6   \n",
       "2            8      183               64             0         0  23.3   \n",
       "3            1       89               66            23        94  28.1   \n",
       "4            0      137               40            35       168  43.1   \n",
       "..         ...      ...              ...           ...       ...   ...   \n",
       "763         10      101               76            48       180  32.9   \n",
       "764          2      122               70            27         0  36.8   \n",
       "765          5      121               72            23       112  26.2   \n",
       "766          1      126               60             0         0  30.1   \n",
       "767          1       93               70            31         0  30.4   \n",
       "\n",
       "     FuncionPedigriDiabetes  Edad  Resultado  \n",
       "0                     0.627    50          1  \n",
       "1                     0.351    31          0  \n",
       "2                     0.672    32          1  \n",
       "3                     0.167    21          0  \n",
       "4                     2.288    33          1  \n",
       "..                      ...   ...        ...  \n",
       "763                   0.171    63          0  \n",
       "764                   0.340    27          0  \n",
       "765                   0.245    30          0  \n",
       "766                   0.349    47          1  \n",
       "767                   0.315    23          0  \n",
       "\n",
       "[768 rows x 9 columns]"
      ]
     },
     "execution_count": 3,
     "metadata": {},
     "output_type": "execute_result"
    }
   ],
   "source": [
    "datos_diabetes_df"
   ]
  },
  {
   "cell_type": "code",
   "execution_count": 4,
   "id": "c6a87211",
   "metadata": {},
   "outputs": [
    {
     "data": {
      "text/plain": [
       "0    500\n",
       "1    268\n",
       "Name: Resultado, dtype: int64"
      ]
     },
     "execution_count": 4,
     "metadata": {},
     "output_type": "execute_result"
    }
   ],
   "source": [
    "#Realizada con una SVM de clasificación, que será relizada con la clas SVC de la librería sklearn.\n",
    "#Nuestro objetivo será predecir la columna \"Resultados\", que contiene el resultado del diagnóstico. \n",
    "#Es importante comprender de qué manera se distribuyen las muestras para identificar \n",
    "#posibles fallas y tendencias falsas (sesgos) en nuestro algoritmo.\n",
    "\n",
    "# Contar los valores únicos de una columna en un DataFrame\n",
    "datos_diabetes_df['Resultado'].value_counts()\n",
    "#datos_diabetes_df['Edad']#.value_counts()"
   ]
  },
  {
   "cell_type": "code",
   "execution_count": 5,
   "id": "94720ac6",
   "metadata": {},
   "outputs": [
    {
     "data": {
      "text/html": [
       "<div>\n",
       "<style scoped>\n",
       "    .dataframe tbody tr th:only-of-type {\n",
       "        vertical-align: middle;\n",
       "    }\n",
       "\n",
       "    .dataframe tbody tr th {\n",
       "        vertical-align: top;\n",
       "    }\n",
       "\n",
       "    .dataframe thead th {\n",
       "        text-align: right;\n",
       "    }\n",
       "</style>\n",
       "<table border=\"1\" class=\"dataframe\">\n",
       "  <thead>\n",
       "    <tr style=\"text-align: right;\">\n",
       "      <th></th>\n",
       "      <th>Embarazos</th>\n",
       "      <th>Glucosa</th>\n",
       "      <th>PresionArterial</th>\n",
       "      <th>GrosorDePiel</th>\n",
       "      <th>Insulina</th>\n",
       "      <th>IMC</th>\n",
       "      <th>FuncionPedigriDiabetes</th>\n",
       "      <th>Edad</th>\n",
       "    </tr>\n",
       "  </thead>\n",
       "  <tbody>\n",
       "    <tr>\n",
       "      <th>0</th>\n",
       "      <td>6</td>\n",
       "      <td>148</td>\n",
       "      <td>72</td>\n",
       "      <td>35</td>\n",
       "      <td>0</td>\n",
       "      <td>33.6</td>\n",
       "      <td>0.627</td>\n",
       "      <td>50</td>\n",
       "    </tr>\n",
       "    <tr>\n",
       "      <th>1</th>\n",
       "      <td>1</td>\n",
       "      <td>85</td>\n",
       "      <td>66</td>\n",
       "      <td>29</td>\n",
       "      <td>0</td>\n",
       "      <td>26.6</td>\n",
       "      <td>0.351</td>\n",
       "      <td>31</td>\n",
       "    </tr>\n",
       "    <tr>\n",
       "      <th>2</th>\n",
       "      <td>8</td>\n",
       "      <td>183</td>\n",
       "      <td>64</td>\n",
       "      <td>0</td>\n",
       "      <td>0</td>\n",
       "      <td>23.3</td>\n",
       "      <td>0.672</td>\n",
       "      <td>32</td>\n",
       "    </tr>\n",
       "    <tr>\n",
       "      <th>3</th>\n",
       "      <td>1</td>\n",
       "      <td>89</td>\n",
       "      <td>66</td>\n",
       "      <td>23</td>\n",
       "      <td>94</td>\n",
       "      <td>28.1</td>\n",
       "      <td>0.167</td>\n",
       "      <td>21</td>\n",
       "    </tr>\n",
       "    <tr>\n",
       "      <th>4</th>\n",
       "      <td>0</td>\n",
       "      <td>137</td>\n",
       "      <td>40</td>\n",
       "      <td>35</td>\n",
       "      <td>168</td>\n",
       "      <td>43.1</td>\n",
       "      <td>2.288</td>\n",
       "      <td>33</td>\n",
       "    </tr>\n",
       "  </tbody>\n",
       "</table>\n",
       "</div>"
      ],
      "text/plain": [
       "   Embarazos  Glucosa  PresionArterial  GrosorDePiel  Insulina   IMC  \\\n",
       "0          6      148               72            35         0  33.6   \n",
       "1          1       85               66            29         0  26.6   \n",
       "2          8      183               64             0         0  23.3   \n",
       "3          1       89               66            23        94  28.1   \n",
       "4          0      137               40            35       168  43.1   \n",
       "\n",
       "   FuncionPedigriDiabetes  Edad  \n",
       "0                   0.627    50  \n",
       "1                   0.351    31  \n",
       "2                   0.672    32  \n",
       "3                   0.167    21  \n",
       "4                   2.288    33  "
      ]
     },
     "execution_count": 5,
     "metadata": {},
     "output_type": "execute_result"
    }
   ],
   "source": [
    "#En este caso, tenemos muchas más muestras de pacientes diagnosticados sin diabetes (0). \n",
    "#Esto podría representar un problema para las predicciones de nuestra SVM, \n",
    "#pues estará sesgada a predecir más resultados de la clase que contiene más muestras.\n",
    "\n",
    "\n",
    "#Para empezar el proceso de entrenamiento, es necesario \n",
    "#separar las características (X) de las etiquetas (Y). \n",
    "#El objetivo de todo el análisis es poder predecir una etiqueta (Y), \n",
    "#contando únicamente con las características (Y). \n",
    "#La SVM se encargará de aprender la relación que existe entre X y Y.\n",
    "\n",
    "## Crearemos un nuevo df llamado \"X\" con las columnas de características\n",
    "# Se obtiene generando una lista de columnas del df a utilizar\n",
    "\n",
    "lista_columnas_signos = [\n",
    "    'Embarazos', \n",
    "    'Glucosa', \n",
    "    'PresionArterial', \n",
    "    'GrosorDePiel', \n",
    "    'Insulina',\n",
    "    'IMC', \n",
    "    'FuncionPedigriDiabetes', \n",
    "    'Edad'\n",
    "]\n",
    "\n",
    "# Luego tomando esa lista del df original y lo separamos \n",
    "X = datos_diabetes_df[lista_columnas_signos]\n",
    "# Mostraremos los primeros cinco registros para conocer cómo se compone X\n",
    "X.head(5)\n",
    "\n"
   ]
  },
  {
   "cell_type": "code",
   "execution_count": 6,
   "id": "401fcf02",
   "metadata": {},
   "outputs": [
    {
     "data": {
      "text/html": [
       "<div>\n",
       "<style scoped>\n",
       "    .dataframe tbody tr th:only-of-type {\n",
       "        vertical-align: middle;\n",
       "    }\n",
       "\n",
       "    .dataframe tbody tr th {\n",
       "        vertical-align: top;\n",
       "    }\n",
       "\n",
       "    .dataframe thead th {\n",
       "        text-align: right;\n",
       "    }\n",
       "</style>\n",
       "<table border=\"1\" class=\"dataframe\">\n",
       "  <thead>\n",
       "    <tr style=\"text-align: right;\">\n",
       "      <th></th>\n",
       "      <th>Resultado</th>\n",
       "    </tr>\n",
       "  </thead>\n",
       "  <tbody>\n",
       "    <tr>\n",
       "      <th>0</th>\n",
       "      <td>1</td>\n",
       "    </tr>\n",
       "    <tr>\n",
       "      <th>1</th>\n",
       "      <td>0</td>\n",
       "    </tr>\n",
       "    <tr>\n",
       "      <th>2</th>\n",
       "      <td>1</td>\n",
       "    </tr>\n",
       "    <tr>\n",
       "      <th>3</th>\n",
       "      <td>0</td>\n",
       "    </tr>\n",
       "    <tr>\n",
       "      <th>4</th>\n",
       "      <td>1</td>\n",
       "    </tr>\n",
       "  </tbody>\n",
       "</table>\n",
       "</div>"
      ],
      "text/plain": [
       "   Resultado\n",
       "0          1\n",
       "1          0\n",
       "2          1\n",
       "3          0\n",
       "4          1"
      ]
     },
     "execution_count": 6,
     "metadata": {},
     "output_type": "execute_result"
    }
   ],
   "source": [
    "#Utilizaremos el mismo procedimiento para generar \"Y\" que es donde estaran los resultados\n",
    "\n",
    "lista_columna_resultado = ['Resultado']\n",
    "Y = datos_diabetes_df[lista_columna_resultado]\n",
    "Y.head(5)"
   ]
  },
  {
   "cell_type": "code",
   "execution_count": 7,
   "id": "16e307f0",
   "metadata": {},
   "outputs": [],
   "source": [
    "#nuestros objetos de X y Y, procederemos a separarlos en \n",
    "#\"X\" conjuntos de entrenamiento (Datos que serviran para aprender) y \n",
    "# \"Y\" prueba (para validadr que el aprendizaje sea correcto).\n",
    "\n",
    "#Este proceso será realizado con la función train_test_split \n",
    "#que importamos al inicio del documento. Por defecto, esta función tomará 25% (0.25) \n",
    "#de nuestro conjunto total de datos como prueba y el resto para entrenamiento.\n",
    "\n",
    "# Separar en datos de entrenamiento y datos de prueba\n",
    "X_train, X_test, Y_train, Y_test = train_test_split(\n",
    "    X,\n",
    "    Y\n",
    ")"
   ]
  },
  {
   "cell_type": "code",
   "execution_count": 8,
   "id": "665b81bb",
   "metadata": {},
   "outputs": [
    {
     "data": {
      "text/plain": [
       "(576, 8)"
      ]
     },
     "execution_count": 8,
     "metadata": {},
     "output_type": "execute_result"
    }
   ],
   "source": [
    "# veamos la cantidad de datos a utilizar para el entrenamiento \"X\"\n",
    "#en este caso el numero de datos corresponde al 75% de la informacion \n",
    "# vemos 576 datos y 8 datos(columnas)\n",
    "X_train.shape"
   ]
  },
  {
   "cell_type": "code",
   "execution_count": 9,
   "id": "f1614cf2",
   "metadata": {},
   "outputs": [
    {
     "data": {
      "text/plain": [
       "(576, 1)"
      ]
     },
     "execution_count": 9,
     "metadata": {},
     "output_type": "execute_result"
    }
   ],
   "source": [
    "# veamos la cantidad de datos a utilizar para el entrenamiento \"Y\"\n",
    "#en este caso el numero de datos corresponde al 75% de la informacion \n",
    "# vemos 576 datos y 1 dato (columna)\n",
    "Y_train.shape"
   ]
  },
  {
   "cell_type": "code",
   "execution_count": 10,
   "id": "683cd141",
   "metadata": {},
   "outputs": [
    {
     "data": {
      "text/plain": [
       "(192, 8)"
      ]
     },
     "execution_count": 10,
     "metadata": {},
     "output_type": "execute_result"
    }
   ],
   "source": [
    "# Luego, la cantidad de datos a utilizar para validar\n",
    "# que corresponde al 25% de la informacion\n",
    "X_test.shape"
   ]
  },
  {
   "cell_type": "code",
   "execution_count": 11,
   "id": "c8c03cdf",
   "metadata": {},
   "outputs": [
    {
     "data": {
      "text/plain": [
       "(192, 1)"
      ]
     },
     "execution_count": 11,
     "metadata": {},
     "output_type": "execute_result"
    }
   ],
   "source": [
    "# Luego, la cantidad de datos a utilizar para validar\n",
    "# que corresponde al 25% de la informacion\n",
    "Y_test.shape"
   ]
  },
  {
   "cell_type": "code",
   "execution_count": 12,
   "id": "de0ba64f",
   "metadata": {},
   "outputs": [],
   "source": [
    "#Creación de la SVM\n",
    "#Utilizaremos la clase SVC (Support Vector Classifier) que importamos al inicio. \n",
    "#Existen diversos tipos de kernel que podemos utilizar para crear una SVM. \n",
    "#En este caso tomaremos un kernel lineal (en sklearn linear)\n",
    "#para que el entrenamiento sea rápido.\n",
    "\n",
    "# Definició del modelo que llamaremos clf\n",
    "clf = SVC(kernel='linear')"
   ]
  },
  {
   "cell_type": "code",
   "execution_count": 13,
   "id": "befe9156",
   "metadata": {},
   "outputs": [
    {
     "name": "stdout",
     "output_type": "stream",
     "text": [
      "Entrenamiento terminado en 9.302412986755371 segundos\n"
     ]
    }
   ],
   "source": [
    "#El entrenamiento de un modelo en sklearn es bastante sencillo. \n",
    "#Basta con llamar el método fit para encontrar las relaciones entre nuestra X y Y. \n",
    "#El único inconveniente es que el método fit recibe valores de tipo array, \n",
    "#pero nuestros datos actualmente se encuentran contenidos en objetos de tipo pandas.DataFrame (df). \n",
    "#Para convertir un df en un array, basta con tomar el atributo values del mismo df.\n",
    "\n",
    "\n",
    "# Guardamos el registro del momento en el que empezamos el entrenamiento\n",
    "\n",
    "hora_inicio = time()\n",
    "\n",
    "# Iniciamos el entrenamiento ejecutando el metodo fit\n",
    "# Los valores que enviamos son los valores de X y Y\n",
    "#\n",
    "# El .ravel() que final de Y es values es un pequeño truco para cambiar su forma\n",
    "# esto permite convertir una matriz de dos dimensiones en una sola dimesión,\n",
    "# con ello, cada elemento de esta nueva matriz corresponde a un registro de X\n",
    "\n",
    "clf.fit(X_train.values, Y_train.values.ravel())\n",
    "\n",
    "# Imprimimos el tiempo tomado para el entrenamiento\n",
    "print(\"Entrenamiento terminado en {} segundos\".format(time() - hora_inicio))\n",
    "\n",
    "#para saber si un resultado de entrenamiento es bueno o malo va a depender de ciertos criterios, \n",
    "#como la cantidad de clases que tengamos \"0\" o \"1\" tiene diabetes o no tiene diabetes \n",
    "#lo mimimo que deberiamos tener como aceptado es un 50% \n",
    "\n",
    "#si tubieramos 3 clases lo minimo que podriamos esperar es un 33.3%\n",
    "#si tubieramos 4 clases lo minimo que podriamos esperar es un 25%\n",
    "#si tubieramos 5 clases lo minimo que podriamos esperar es un 20%\n",
    "\n",
    "#para tener un numero de % apropiado de predicion es dividiendo el 100% en la cantidad de las clases\n",
    "#como lo muestra en el ejemplo"
   ]
  },
  {
   "cell_type": "code",
   "execution_count": 14,
   "id": "314c0bd5",
   "metadata": {},
   "outputs": [
    {
     "name": "stdout",
     "output_type": "stream",
     "text": [
      "Predicción terminada en 0.061994075775146484 segundos\n"
     ]
    },
    {
     "name": "stderr",
     "output_type": "stream",
     "text": [
      "E:\\Programas windows\\Anaconda\\lib\\site-packages\\sklearn\\base.py:443: UserWarning: X has feature names, but SVC was fitted without feature names\n",
      "  warnings.warn(\n"
     ]
    }
   ],
   "source": [
    "#Terminado el entrenamiento, es necesario medir su precisión. \n",
    "#Para ello, intentaremos predecir los datos de \"Y\" de Prueba utilizando datos \"X\" de prueba. \n",
    "#A estos datos les llamaremos Y_pred, pues contendrán nuestra predicción.\n",
    "\n",
    "# Otra vez guardaremos registro del tiempo que nos toma crear esta predicción\n",
    "hora_inicio = time()\n",
    "\n",
    "# Iniciamos la predicción con datos \"X\" de prueba\n",
    "Y_pred = clf.predict(X_test)\n",
    "\n",
    "# Mostramos el tiempo tomado para la predicción\n",
    "print(\"Predicción terminada en {} segundos\".format(time() - hora_inicio))"
   ]
  },
  {
   "cell_type": "code",
   "execution_count": 20,
   "id": "10312bad",
   "metadata": {},
   "outputs": [
    {
     "data": {
      "text/plain": [
       "0.7604166666666666"
      ]
     },
     "execution_count": 20,
     "metadata": {},
     "output_type": "execute_result"
    }
   ],
   "source": [
    "# Evaluamos la precisión \n",
    "accuracy_score(Y_test, Y_pred)"
   ]
  },
  {
   "cell_type": "code",
   "execution_count": 21,
   "id": "a7346849",
   "metadata": {},
   "outputs": [
    {
     "data": {
      "text/plain": [
       "array([[115,  17],\n",
       "       [ 29,  31]], dtype=int64)"
      ]
     },
     "execution_count": 21,
     "metadata": {},
     "output_type": "execute_result"
    }
   ],
   "source": [
    "#en este caso, la precisión del modelo fue relativamente aceptable (0.76). Sin embargo, \n",
    "#debido a que los datos de aprendizaje fueron muy pocos (cerca de 500) y \n",
    "#que estaban muy sesgados hacia la clase más representada (la gente sin diabetes), \n",
    "#es posible que no funcione bien en muchos casos.\n",
    "\n",
    "#Matriz de confusión\n",
    "#Una matriz de confusión nos ayuda a tener una mejor idea del rendimiento de nuestro modelo. \n",
    "#Se encarga de comparar la cantidad de aciertos de cada clase de \n",
    "#nuestros datos de prueba (Y_test en este caso) y nuestros datos calculados (Y_pred en este caso).\n",
    "\n",
    "# La función confusion_matrix recibe las \"respuestas correctas\" y nuestras predicciones\n",
    "# genera una matriz que indica, para cada clase, la cantidad de predicciones correctas e incorrectas\n",
    "conf_diabetes = confusion_matrix(Y_test, Y_pred)\n",
    "conf_diabetes"
   ]
  },
  {
   "cell_type": "code",
   "execution_count": 22,
   "id": "c0a815cd",
   "metadata": {},
   "outputs": [],
   "source": [
    "#Debido a que es poco complicado comprender la matriz únicamente de forma numérica, \n",
    "#vamos a crear una función que lo muestre de forma gráfica.\n",
    "\n",
    "def plot_cm(cm, classes):\n",
    "    \"\"\"Esta función se encarga de generar un gráfico con nuestra matriz de confusión.\n",
    "    cm es la matriz generada por confusion_matrix\n",
    "    classes es una lista que contiene las posibles clases que puede predecir nuestro modelo\n",
    "    \"\"\"\n",
    "    plt.imshow(cm, cmap=plt.cm.Blues)\n",
    "    plt.title('Matriz de confusión')\n",
    "    plt.colorbar()\n",
    "    tick_marks = np.arange(len(classes))\n",
    "    plt.xticks(tick_marks, classes, rotation=45)\n",
    "    plt.yticks(tick_marks, classes)\n",
    "    thresh = cm.max() / 2.\n",
    "    for indice_fila, fila in enumerate(cm):\n",
    "        for indice_columna, columna in enumerate(fila):\n",
    "            if cm[indice_fila, indice_columna] > thresh:\n",
    "                color = \"white\"\n",
    "            else:\n",
    "                color = \"black\"\n",
    "            plt.text(\n",
    "                indice_columna,\n",
    "                indice_fila,\n",
    "                cm[indice_fila, indice_columna],\n",
    "                color=color,\n",
    "                horizontalalignment=\"center\"\n",
    "            )\n",
    "    plt.ylabel(\"Valores reales\")\n",
    "    plt.xlabel(\"Valores calculados\")\n",
    "    plt.show()"
   ]
  },
  {
   "cell_type": "code",
   "execution_count": 23,
   "id": "4cd32552",
   "metadata": {},
   "outputs": [
    {
     "data": {
      "image/png": "[encoded data removed]",
      "text/plain": [
       "<Figure size 432x288 with 2 Axes>"
      ]
     },
     "metadata": {
      "needs_background": "light"
     },
     "output_type": "display_data"
    }
   ],
   "source": [
    "# Generamos el gráfico llamando la función que creamos y enviando los parámetros\n",
    "# cm = nuestra matriz de confusión (conf_diabetes)\n",
    "# classes = las clases a predecir (si tienen diabetes o no)\n",
    "plot_cm(conf_diabetes, ['No diabetes', 'Sí diabetes'])"
   ]
  },
  {
   "cell_type": "code",
   "execution_count": null,
   "id": "00f01fab",
   "metadata": {},
   "outputs": [],
   "source": []
  }
 ],
 "metadata": {
  "kernelspec": {
   "display_name": "Python 3 (ipykernel)",
   "language": "python",
   "name": "python3"
  },
  "language_info": {
   "codemirror_mode": {
    "name": "ipython",
    "version": 3
   },
   "file_extension": ".py",
   "mimetype": "text/x-python",
   "name": "python",
   "nbconvert_exporter": "python",
   "pygments_lexer": "ipython3",
   "version": "3.9.12"
  }
 },
 "nbformat": 4,
 "nbformat_minor": 5
}
